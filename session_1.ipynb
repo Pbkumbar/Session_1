{
  "nbformat": 4,
  "nbformat_minor": 0,
  "metadata": {
    "colab": {
      "provenance": [],
      "authorship_tag": "ABX9TyNxMfr32jJnSV+UZAgwva1F",
      "include_colab_link": true
    },
    "kernelspec": {
      "name": "python3",
      "display_name": "Python 3"
    },
    "language_info": {
      "name": "python"
    }
  },
  "cells": [
    {
      "cell_type": "markdown",
      "metadata": {
        "id": "view-in-github",
        "colab_type": "text"
      },
      "source": [
        "<a href=\"https://colab.research.google.com/github/Pbkumbar/Session_1/blob/main/session_1.ipynb\" target=\"_parent\"><img src=\"https://colab.research.google.com/assets/colab-badge.svg\" alt=\"Open In Colab\"/></a>"
      ]
    },
    {
      "cell_type": "code",
      "execution_count": null,
      "metadata": {
        "id": "kn5KpLFQqxdO"
      },
      "outputs": [],
      "source": []
    },
    {
      "cell_type": "markdown",
      "source": [
        "About Markup"
      ],
      "metadata": {
        "id": "HQBKYeqprzB8"
      }
    },
    {
      "cell_type": "code",
      "source": [],
      "metadata": {
        "id": "VM9U2PYbr8ko"
      },
      "execution_count": null,
      "outputs": []
    },
    {
      "cell_type": "markdown",
      "source": [
        "#About Markup\n",
        "##1.1 About fonts\n",
        "All about fonts\n",
        "\n",
        "###1.1.1 Bold\n",
        "**Bold**\n",
        "###1.1.2 Italics\n",
        "*italics*\n",
        "\n",
        "##1.2 About Mathematics sysmbols\n",
        "###Power\n",
        "$$\n",
        "x^2=4,x*2*3=10\n",
        "$$\n",
        "\n",
        "##1.3 About loops\n",
        "```\n",
        "for i in range(0,10):\n",
        " print(\"Data Science\",i)\n",
        "```"
      ],
      "metadata": {
        "id": "Z_KIHI8Kr9cr"
      }
    },
    {
      "cell_type": "code",
      "source": [],
      "metadata": {
        "id": "K-xcgjQTtaPN"
      },
      "execution_count": null,
      "outputs": []
    },
    {
      "cell_type": "markdown",
      "source": [],
      "metadata": {
        "id": "TSdNVd_LtbTx"
      }
    },
    {
      "cell_type": "markdown",
      "source": [],
      "metadata": {
        "id": "dwuTr7hDtdss"
      }
    }
  ]
}